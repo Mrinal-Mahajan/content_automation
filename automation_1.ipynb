{
 "cells": [
  {
   "cell_type": "code",
   "execution_count": 1,
   "metadata": {},
   "outputs": [
    {
     "name": "stdout",
     "output_type": "stream",
     "text": [
      "test-01 .txt\n",
      "01-test.txt\n",
      "test-02 .txt\n",
      "02-test.txt\n",
      "test-03 .txt\n",
      "03-test.txt\n",
      "test-04 .txt\n",
      "04-test.txt\n"
     ]
    }
   ],
   "source": [
    "import os\n",
    "\n",
    "path = 'filefolder'\n",
    "# Am I in the correct directory?\n",
    "# print(os.getcwd())\n",
    "\n",
    "# print(dir(os))\n",
    "\n",
    "# Print all the current file names\n",
    "for f in sorted(os.listdir(path)):\n",
    "    \n",
    "    file_name, file_ext = os.path.splitext(f)\n",
    "    print file_name,file_ext \n",
    "    f_title,f_number = file_name.split('-')\n",
    "\n",
    "\n",
    "    # Need to remove whitespace\n",
    "    f_title = f_title.strip()\n",
    "    f_number = int(f_number.strip())\n",
    "    \n",
    "    print('{:02}-{}{}'.format(f_number, f_title.strip(), file_ext.strip()))\n",
    "\n",
    "    new_name = '{:02}-{}{}'.format(f_number, f_title, file_ext)\n",
    "\n",
    "    os.rename(path+'/'+str(f), path+'/'+new_name)"
   ]
  },
  {
   "cell_type": "code",
   "execution_count": 2,
   "metadata": {},
   "outputs": [
    {
     "name": "stdout",
     "output_type": "stream",
     "text": [
      "01-test .txt\n",
      "test-01.txt\n",
      "02-test .txt\n",
      "test-02.txt\n",
      "03-test .txt\n",
      "test-03.txt\n",
      "04-test .txt\n",
      "test-04.txt\n"
     ]
    }
   ],
   "source": [
    "#restore to previous file names\n",
    "\n",
    "for f in sorted(os.listdir(path)):\n",
    "    file_name,file_ext = os.path.splitext(f)\n",
    "    print file_name,file_ext\n",
    "    f_number,f_title = file_name.split('-')\n",
    "\n",
    "    # Need to remove whitespace\n",
    "    f_title = f_title.strip()\n",
    "    f_number = int(f_number.strip())\n",
    "\n",
    "    print('{}-{:02}{}'.format(f_title.strip(),f_number, file_ext.strip()))\n",
    "\n",
    "    new_name = '{}-{:02}{}'.format(f_title,f_number, file_ext)\n",
    "\n",
    "    os.rename(path+'/'+str(f), path+'/'+new_name)\n"
   ]
  },
  {
   "cell_type": "code",
   "execution_count": null,
   "metadata": {
    "collapsed": true
   },
   "outputs": [],
   "source": []
  }
 ],
 "metadata": {
  "kernelspec": {
   "display_name": "Python 2",
   "language": "python",
   "name": "python2"
  },
  "language_info": {
   "codemirror_mode": {
    "name": "ipython",
    "version": 2
   },
   "file_extension": ".py",
   "mimetype": "text/x-python",
   "name": "python",
   "nbconvert_exporter": "python",
   "pygments_lexer": "ipython2",
   "version": "2.7.13"
  }
 },
 "nbformat": 4,
 "nbformat_minor": 2
}
