{
 "cells": [
  {
   "cell_type": "code",
   "execution_count": 2,
   "metadata": {},
   "outputs": [
    {
     "name": "stdout",
     "output_type": "stream",
     "text": [
      "<p>There are currently 30 public contributors. Thank You!</p>\n",
      "<ul>\n",
      "\t<li>JohnDoe</li>\n",
      "\t<li>DaveSmith</li>\n",
      "\t<li>MaryJacobs</li>\n",
      "\t<li>JaneStuart</li>\n",
      "\t<li>TomWright</li>\n",
      "\t<li>SteveRobinson</li>\n",
      "\t<li>NicoleJacobs</li>\n",
      "\t<li>JaneWright</li>\n",
      "\t<li>JaneDoe</li>\n",
      "\t<li>KurtWright</li>\n",
      "\t<li>KurtRobinson</li>\n",
      "\t<li>JaneJenkins</li>\n",
      "\t<li>NeilRobinson</li>\n",
      "\t<li>TomPatterson</li>\n",
      "\t<li>SamJenkins</li>\n",
      "\t<li>SteveStuart</li>\n",
      "\t<li>MaggiePatterson</li>\n",
      "\t<li>MaggieStuart</li>\n",
      "\t<li>JaneDoe</li>\n",
      "\t<li>StevePatterson</li>\n",
      "\t<li>DaveSmith</li>\n",
      "\t<li>SamWilks</li>\n",
      "\t<li>KurtJefferson</li>\n",
      "\t<li>SamStuart</li>\n",
      "\t<li>JaneStuart</li>\n",
      "\t<li>DaveDavis</li>\n",
      "\t<li>SamPatterson</li>\n",
      "\t<li>TomJefferson</li>\n",
      "\t<li>JaneStuart</li>\n",
      "\t<li>MaggieJefferson</li>\n",
      "</ul>\n"
     ]
    }
   ],
   "source": [
    "import csv\n",
    "\n",
    "html_output = ''\n",
    "names = []\n",
    "\n",
    "with open('patrons.csv', 'r') as data_file:\n",
    "    csv_data = csv.DictReader(data_file)\n",
    "\n",
    "    # We don't want first line of bad data\n",
    "    next(csv_data)\n",
    "\n",
    "    for line in csv_data:\n",
    "        if line['FirstName'] == 'No Reward':\n",
    "            break\n",
    "        names.append(\"{}{}\".format(line['FirstName'],line['LastName']))\n",
    "\n",
    "html_output += '<p>There are currently {} public contributors. Thank You!</p>'.format(len(names))\n",
    "\n",
    "html_output += '\\n<ul>'\n",
    "\n",
    "for name in names:\n",
    "    html_output += '\\n\\t<li>{}</li>'.format(name)\n",
    "\n",
    "html_output += '\\n</ul>'\n",
    "\n",
    "print(html_output)"
   ]
  },
  {
   "cell_type": "code",
   "execution_count": null,
   "metadata": {
    "collapsed": true
   },
   "outputs": [],
   "source": []
  }
 ],
 "metadata": {
  "kernelspec": {
   "display_name": "Python 2",
   "language": "python",
   "name": "python2"
  },
  "language_info": {
   "codemirror_mode": {
    "name": "ipython",
    "version": 2
   },
   "file_extension": ".py",
   "mimetype": "text/x-python",
   "name": "python",
   "nbconvert_exporter": "python",
   "pygments_lexer": "ipython2",
   "version": "2.7.13"
  }
 },
 "nbformat": 4,
 "nbformat_minor": 2
}
